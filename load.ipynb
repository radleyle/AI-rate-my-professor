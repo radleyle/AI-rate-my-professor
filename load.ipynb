{
 "cells": [
  {
   "cell_type": "code",
   "execution_count": 17,
   "metadata": {},
   "outputs": [
    {
     "data": {
      "text/plain": [
       "False"
      ]
     },
     "execution_count": 17,
     "metadata": {},
     "output_type": "execute_result"
    }
   ],
   "source": [
    "from dotenv import load_dotenv\n",
    "load_dotenv(\".env.local\")\n",
    "import os\n",
    "from openai import OpenAI\n",
    "# import pinecone\n",
    "from pinecone import Pinecone, ServerlessSpec\n",
    "load_dotenv()"
   ]
  },
  {
   "cell_type": "code",
   "execution_count": 18,
   "metadata": {},
   "outputs": [],
   "source": [
    "\n",
    "pc = Pinecone(api_key=os.getenv(\"PINECONE_API_KEY\"))\n",
    "\n",
    "# Delete the existing index\n",
    "pc.delete_index(\"rag\")\n",
    "\n",
    "# Create the new index\n",
    "pc.create_index(\n",
    "    name=\"rag\",\n",
    "    dimension=1536,\n",
    "    metric=\"cosine\", \n",
    "    spec=ServerlessSpec(\n",
    "        cloud=\"aws\",\n",
    "        region=\"us-east-1\"\n",
    "    )\n",
    ")"
   ]
  },
  {
   "cell_type": "code",
   "execution_count": 19,
   "metadata": {},
   "outputs": [
    {
     "data": {
      "text/plain": [
       "[{'professor': 'Dr. John Smith',\n",
       "  'subject': 'Physics',\n",
       "  'stars': 4,\n",
       "  'review': 'Dr. Smith explains concepts clearly and is always willing to help students during office hours.'},\n",
       " {'professor': 'Prof. Emily Brown',\n",
       "  'subject': 'Chemistry',\n",
       "  'stars': 5,\n",
       "  'review': 'Prof. Brown is amazing! Her classes are engaging, and she makes complex topics easy to understand.'},\n",
       " {'professor': 'Dr. Robert Davis',\n",
       "  'subject': 'Mathematics',\n",
       "  'stars': 3,\n",
       "  'review': 'Dr. Davis is knowledgeable, but his lectures can be a bit dry at times.'},\n",
       " {'professor': 'Dr. Alice Green',\n",
       "  'subject': 'Biology',\n",
       "  'stars': 4,\n",
       "  'review': 'Dr. Green is very passionate about her subject and makes learning fun.'},\n",
       " {'professor': 'Prof. Michael Johnson',\n",
       "  'subject': 'Computer Science',\n",
       "  'stars': 5,\n",
       "  'review': \"Prof. Johnson is an excellent teacher who really cares about his students' success.\"},\n",
       " {'professor': 'Dr. Sarah Wilson',\n",
       "  'subject': 'History',\n",
       "  'stars': 2,\n",
       "  'review': 'Dr. Wilson knows her material, but her lectures are monotonous and hard to follow.'},\n",
       " {'professor': 'Prof. David Lee',\n",
       "  'subject': 'Economics',\n",
       "  'stars': 4,\n",
       "  'review': 'Prof. Lee is a great lecturer, and he provides real-world examples that make the material relevant.'},\n",
       " {'professor': 'Dr. Linda Taylor',\n",
       "  'subject': 'Psychology',\n",
       "  'stars': 5,\n",
       "  'review': 'Dr. Taylor is incredibly insightful and creates a supportive learning environment.'},\n",
       " {'professor': 'Prof. Richard Anderson',\n",
       "  'subject': 'Political Science',\n",
       "  'stars': 3,\n",
       "  'review': 'Prof. Anderson is okay, but his exams are tough and not always reflective of the lectures.'},\n",
       " {'professor': 'Dr. Karen Martinez',\n",
       "  'subject': 'Sociology',\n",
       "  'stars': 4,\n",
       "  'review': 'Dr. Martinez is very knowledgeable and approachable. Her classes are well-organized.'},\n",
       " {'professor': 'Prof. William Harris',\n",
       "  'subject': 'English Literature',\n",
       "  'stars': 5,\n",
       "  'review': 'Prof. Harris is a fantastic teacher with a deep love for literature. His classes are always thought-provoking.'},\n",
       " {'professor': 'Dr. Patricia Thomas',\n",
       "  'subject': 'Art History',\n",
       "  'stars': 3,\n",
       "  'review': 'Dr. Thomas is knowledgeable, but sometimes the material can be a bit dry.'},\n",
       " {'professor': 'Prof. James Clark',\n",
       "  'subject': 'Philosophy',\n",
       "  'stars': 4,\n",
       "  'review': 'Prof. Clark encourages critical thinking and great class discussions.'},\n",
       " {'professor': 'Dr. Elizabeth Walker',\n",
       "  'subject': 'Environmental Science',\n",
       "  'stars': 5,\n",
       "  'review': 'Dr. Walker is incredibly passionate about the environment and inspires her students to make a difference.'},\n",
       " {'professor': 'Prof. Charles King',\n",
       "  'subject': 'Business Administration',\n",
       "  'stars': 2,\n",
       "  'review': 'Prof. King’s lectures are not very engaging, and the assignments are unclear.'},\n",
       " {'professor': 'Dr. Barbara White',\n",
       "  'subject': 'Statistics',\n",
       "  'stars': 4,\n",
       "  'review': 'Dr. White explains statistical concepts clearly and provides good practice problems.'},\n",
       " {'professor': 'Prof. Steven Lewis',\n",
       "  'subject': 'Marketing',\n",
       "  'stars': 5,\n",
       "  'review': 'Prof. Lewis is engaging and brings real-world experience into the classroom.'},\n",
       " {'professor': 'Dr. Mary Hall',\n",
       "  'subject': 'Anthropology',\n",
       "  'stars': 3,\n",
       "  'review': 'Dr. Hall is knowledgeable, but sometimes her lectures lack structure.'},\n",
       " {'professor': 'Prof. Daniel Young',\n",
       "  'subject': 'Linguistics',\n",
       "  'stars': 4,\n",
       "  'review': 'Prof. Young is an excellent teacher who makes complex linguistic theories understandable.'},\n",
       " {'professor': 'Dr. Jennifer Scott',\n",
       "  'subject': 'Physics',\n",
       "  'stars': 5,\n",
       "  'review': 'Dr. Scott is incredibly enthusiastic and makes learning physics enjoyable.'}]"
      ]
     },
     "execution_count": 19,
     "metadata": {},
     "output_type": "execute_result"
    }
   ],
   "source": [
    "import json\n",
    "data = json.load(open(\"reviews.json\"))\n",
    "data['reviews']"
   ]
  },
  {
   "cell_type": "code",
   "execution_count": 20,
   "metadata": {},
   "outputs": [],
   "source": [
    "processed_data = []\n",
    "client = OpenAI(api_key=os.getenv(\"OPENAI_API_KEY\"))\n",
    "\n",
    "for review in data['reviews']:\n",
    "    response = client.embeddings.create(\n",
    "        input=review['review'],\n",
    "        model=\"text-embedding-3-small\",\n",
    "    )\n",
    "    embedding = response.data[0].embedding\n",
    "    processed_data.append({\n",
    "        \"values\": embedding,\n",
    "        \"id\": review[\"professor\"],\n",
    "        \"metadata\": {\n",
    "            \"review\": review[\"review\"],\n",
    "            \"subject\": review[\"subject\"],\n",
    "            \"stars\": review[\"stars\"],\n",
    "        }\n",
    "    })"
   ]
  },
  {
   "cell_type": "code",
   "execution_count": 21,
   "metadata": {},
   "outputs": [
    {
     "data": {
      "text/plain": [
       "{'upserted_count': 20}"
      ]
     },
     "execution_count": 21,
     "metadata": {},
     "output_type": "execute_result"
    }
   ],
   "source": [
    "index = pc.Index('rag')\n",
    "index.upsert(\n",
    "    vectors=processed_data,\n",
    "    namespace=\"ns1\",\n",
    ")"
   ]
  },
  {
   "cell_type": "code",
   "execution_count": 22,
   "metadata": {},
   "outputs": [
    {
     "data": {
      "text/plain": [
       "{'dimension': 1536,\n",
       " 'index_fullness': 0.0,\n",
       " 'namespaces': {},\n",
       " 'total_vector_count': 0}"
      ]
     },
     "execution_count": 22,
     "metadata": {},
     "output_type": "execute_result"
    }
   ],
   "source": [
    "index.describe_index_stats()"
   ]
  }
 ],
 "metadata": {
  "kernelspec": {
   "display_name": "Python 3",
   "language": "python",
   "name": "python3"
  },
  "language_info": {
   "codemirror_mode": {
    "name": "ipython",
    "version": 3
   },
   "file_extension": ".py",
   "mimetype": "text/x-python",
   "name": "python",
   "nbconvert_exporter": "python",
   "pygments_lexer": "ipython3",
   "version": "3.10.14"
  },
  "vscode": {
   "interpreter": {
    "hash": "aee8b7b246df8f9039afb4144a1f6fd8d2ca17a180786b69acc140d282b71a49"
   }
  }
 },
 "nbformat": 4,
 "nbformat_minor": 2
}
